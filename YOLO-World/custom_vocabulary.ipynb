{
 "cells": [
  {
   "cell_type": "code",
   "execution_count": 5,
   "metadata": {},
   "outputs": [],
   "source": [
    "from ultralytics import YOLO"
   ]
  },
  {
   "cell_type": "code",
   "execution_count": 6,
   "metadata": {},
   "outputs": [],
   "source": [
    "# Initialize a YOLO-World model\n",
    "model = YOLO(r\"..\\models\\yolov8s-worldv2.pt\")  # or select yolov8m/l-world.pt\n",
    "\n",
    "# Define custom classes\n",
    "model.set_classes([\"vehicle\"])\n",
    "\n",
    "# Save the model with the defined offline vocabulary\n",
    "model.save(r\"..\\models\\custom_yolov8s-worldv2.pt\")"
   ]
  }
 ],
 "metadata": {
  "kernelspec": {
   "display_name": ".major_env",
   "language": "python",
   "name": "python3"
  },
  "language_info": {
   "codemirror_mode": {
    "name": "ipython",
    "version": 3
   },
   "file_extension": ".py",
   "mimetype": "text/x-python",
   "name": "python",
   "nbconvert_exporter": "python",
   "pygments_lexer": "ipython3",
   "version": "3.11.9"
  }
 },
 "nbformat": 4,
 "nbformat_minor": 2
}
