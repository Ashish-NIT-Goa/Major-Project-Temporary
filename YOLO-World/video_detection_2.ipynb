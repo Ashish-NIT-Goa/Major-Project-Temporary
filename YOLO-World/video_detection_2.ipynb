{
 "cells": [
  {
   "cell_type": "code",
   "execution_count": null,
   "metadata": {},
   "outputs": [],
   "source": [
    "from ultralytics import YOLO\n",
    "\n",
    "# Create a YOLO-World model\n",
    "model = YOLO(\"yolov8s-world.pt\")  # or select yolov8m/l-world.pt for different sizes"
   ]
  },
  {
   "cell_type": "code",
   "execution_count": null,
   "metadata": {},
   "outputs": [],
   "source": [
    "# Create a YOLO-World model\n",
    "model = YOLO(\"yolov8s-world.pt\")  # or select yolov8m/l-world.pt for different sizes"
   ]
  },
  {
   "cell_type": "code",
   "execution_count": null,
   "metadata": {},
   "outputs": [],
   "source": [
    "# Track with a YOLO-World model on a video\n",
    "results = model.track(source=\"path/to/video.mp4\")"
   ]
  }
 ],
 "metadata": {
  "language_info": {
   "name": "python"
  }
 },
 "nbformat": 4,
 "nbformat_minor": 2
}
